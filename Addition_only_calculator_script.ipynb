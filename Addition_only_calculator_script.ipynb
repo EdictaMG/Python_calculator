{
  "nbformat": 4,
  "nbformat_minor": 0,
  "metadata": {
    "colab": {
      "provenance": [],
      "authorship_tag": "ABX9TyOSmbY3dOnMKiZhveTktrN1",
      "include_colab_link": true
    },
    "kernelspec": {
      "name": "python3",
      "display_name": "Python 3"
    },
    "language_info": {
      "name": "python"
    }
  },
  "cells": [
    {
      "cell_type": "markdown",
      "metadata": {
        "id": "view-in-github",
        "colab_type": "text"
      },
      "source": [
        "<a href=\"https://colab.research.google.com/github/EdictaMG/Python_calculator/blob/main/Addition_only_calculator_script.ipynb\" target=\"_parent\"><img src=\"https://colab.research.google.com/assets/colab-badge.svg\" alt=\"Open In Colab\"/></a>"
      ]
    },
    {
      "cell_type": "code",
      "execution_count": null,
      "metadata": {
        "colab": {
          "base_uri": "https://localhost:8080/"
        },
        "id": "Gak0TBeC6yES",
        "outputId": "29378adf-f52e-403b-ae0e-a64ff55391bc"
      },
      "outputs": [
        {
          "output_type": "stream",
          "name": "stdout",
          "text": [
            "Enter a number or write 'add' to sum all previous inputs.\n"
          ]
        }
      ],
      "source": [
        "total = 0\n",
        "\n",
        "while True:\n",
        "    print(\"Enter a number or write 'add' to sum all previous inputs.\")\n",
        "    user_input = input()  # user_input is the input provided by user\n",
        "    if user_input == \"add\":  # compare user's input to 'add'\n",
        "        break # if the user's input is 'add', then break the code\n",
        "    else:\n",
        "        total+=float(user_input)\n",
        "print(total)"
      ]
    }
  ]
}